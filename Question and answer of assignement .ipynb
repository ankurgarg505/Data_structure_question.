{
 "cells": [
  {
   "cell_type": "code",
   "execution_count": 17,
   "id": "f0991ff5-1eab-47e5-b545-87e9131f6bba",
   "metadata": {},
   "outputs": [
    {
     "name": "stdout",
     "output_type": "stream",
     "text": [
      "!dlroW ,olleH\n",
      "!dlroW ,olleH\n"
     ]
    }
   ],
   "source": [
    "#Q-1 Write a code to reverse a string\n",
    "string  =  \"Hello, World!\"\n",
    "reverse_string = string[::-1]\n",
    "print(reverse_string)\n",
    "\n",
    "reverse_string = \"\"\n",
    "for i in string:\n",
    "    reverse_string = i + reverse_string\n",
    "print(reverse_string)"
   ]
  },
  {
   "cell_type": "code",
   "execution_count": 19,
   "id": "c82b2acd-8a84-405d-9901-68ac670df16d",
   "metadata": {},
   "outputs": [
    {
     "name": "stdout",
     "output_type": "stream",
     "text": [
      "10\n"
     ]
    }
   ],
   "source": [
    "#Q-2 Write a code to count the number of vowels in a string.\n",
    "string  = \"what is this, and what is your name\"\n",
    "vowal = \"aeiouAEIOU\"\n",
    "count = 0\n",
    "for i in string:\n",
    "    if i in vowal:\n",
    "        count+=1\n",
    "print(count)\n",
    "        \n",
    "        \n"
   ]
  },
  {
   "cell_type": "code",
   "execution_count": 87,
   "id": "67be8ce6-0df1-4256-8dd1-39534dedb007",
   "metadata": {},
   "outputs": [
    {
     "data": {
      "text/plain": [
       "False"
      ]
     },
     "execution_count": 87,
     "metadata": {},
     "output_type": "execute_result"
    }
   ],
   "source": [
    "#Q-3 Write a code to check if a given string is a palindrome or not.\n",
    "\n",
    "\n",
    "# Palindrom is a that reading from start or last are same.\n",
    "def plaindrom(x):\n",
    "\n",
    "    check = \"\".join(i.lower() for i in x if i.isalnum())\n",
    "    count = -1\n",
    "\n",
    "    if check == check[::-1]:\n",
    "        a= True\n",
    "    else:\n",
    "        a = False\n",
    "    return a\n",
    "    # return check == check[::-1]\n",
    "            \n",
    "string_1 = \"Akbar\" # not Palindrom\n",
    "string_2 = \"akbaabka\"\n",
    "s = \"jaaj\"\n",
    "plaindrom(string_1)\n"
   ]
  },
  {
   "cell_type": "code",
   "execution_count": 107,
   "id": "87c5dc81-ea08-4232-938c-6d820d71c826",
   "metadata": {},
   "outputs": [
    {
     "name": "stdout",
     "output_type": "stream",
     "text": [
      "This string 'egirt' is anagrams\n"
     ]
    }
   ],
   "source": [
    "#Q-4 Write a code to check if two given strings are anagrams of each other.\n",
    "\n",
    "\n",
    "# Anagram is if two string made be same character\n",
    "\n",
    "string_1 = \"Tiger\"\n",
    "string_2 = \"igter\"\n",
    "# string_1 = string_1.lower()\n",
    "# string_2 = string_2.lower()\n",
    "\n",
    "string_1 = \"\".join(sorted(string_1.lower()))\n",
    "string_2 = \"\".join(sorted(string_2.lower()))\n",
    "\n",
    "if string_1 == string_2:\n",
    "    print(f\"This string '{string_1}' is anagrams\")\n",
    "else:\n",
    "    print(f\"This string '{string_1}' is not anagrams \")"
   ]
  },
  {
   "cell_type": "code",
   "execution_count": 133,
   "id": "32709bfc-4ce1-4a6e-a700-613537aad189",
   "metadata": {},
   "outputs": [
    {
     "name": "stdout",
     "output_type": "stream",
     "text": [
      "'is' occurance is : [15, 131, 140] \n"
     ]
    }
   ],
   "source": [
    "#Q-5 Write a code to find all occurrences of a given substring within another string\n",
    "\n",
    "string = \"\"\"A Data Toolkit is a collection of tools, resources, and methodologies designed to support\n",
    "various stages of data management, analysis, and visualization. It can be tailored for specific use cases or \n",
    "industries, but generally, it includes tools and techniques for:\"\"\"\n",
    "\n",
    "occur = \"is\" # input(\"What you want to find : \") \n",
    "position = []\n",
    "start = 0\n",
    "for i in range(len(string)):\n",
    "    index = string.find(occur, start)\n",
    "\n",
    "    if index == -1 :\n",
    "        break\n",
    "    position.append(index)\n",
    "    start = index + 1\n",
    "if position:\n",
    "    print(f\"'{occur}' occurance is : {position} \")\n",
    "else:\n",
    "    print(f\"''{occur}'' occurance is not found in the string \")"
   ]
  },
  {
   "cell_type": "code",
   "execution_count": 145,
   "id": "f209b985-7b1a-4440-a021-0980d6841934",
   "metadata": {},
   "outputs": [
    {
     "data": {
      "text/plain": [
       "'a3b2d3u2t2'"
      ]
     },
     "execution_count": 145,
     "metadata": {},
     "output_type": "execute_result"
    }
   ],
   "source": [
    "#Q-6 Write a code to perform basic string compression using the counts of repeated characters.\n",
    "\n",
    "string = \"aaabbddduutt\"\n",
    "count = 1\n",
    "lists = []\n",
    "for i in range(1,len(string)):\n",
    "    if string[i] == string[i-1]:\n",
    "        count+=1\n",
    "    else :\n",
    "        lists.append(string[i-1] + str(count))\n",
    "        count = 1\n",
    "if string:\n",
    "    lists.append(string[-1] + str(count))\n",
    "lists = \"\".join(lists)\n",
    "lists"
   ]
  },
  {
   "cell_type": "code",
   "execution_count": 517,
   "id": "fb08ca8c-ac9c-487a-ae74-f17dc90a74ff",
   "metadata": {},
   "outputs": [
    {
     "name": "stdout",
     "output_type": "stream",
     "text": [
      "danger string is unique \n",
      "not unique\n"
     ]
    }
   ],
   "source": [
    "#Q-7 Write a code to determine if a string has all unique characters\n",
    "\n",
    "string  = \"danger\"\n",
    "# string =  sorted(string)\n",
    "ch = set()\n",
    "unique = True\n",
    "for char in string:\n",
    "    if char in ch:\n",
    "        unique = False\n",
    "        break\n",
    "    ch.add(char)\n",
    "if unique:\n",
    "    print(f\"{string} string is unique \")\n",
    "else:\n",
    "    print(f\"{string} string is not unique\")\n",
    "\n",
    "# Write a code to determine if a string has all unique characters\n",
    "\n",
    "string = \"abcdefd\"\n",
    "count = 0\n",
    "for i in range(len(string)):\n",
    "    if string[i] in string[i+1:]:\n",
    "        count = 1 \n",
    "        break\n",
    "if count==0:\n",
    "        print(\"Unique\")\n",
    "else:\n",
    "    print(\"not unique\")\n",
    "    \n",
    "    \n",
    "\n",
    "    \n"
   ]
  },
  {
   "cell_type": "code",
   "execution_count": 223,
   "id": "84355932-1fdd-4bee-a760-52864e82db1f",
   "metadata": {},
   "outputs": [
    {
     "name": "stdout",
     "output_type": "stream",
     "text": [
      "Does the string 'abcdefg' have all unique characters? True\n",
      "Does the string 'hello' have all unique characters? False\n"
     ]
    }
   ],
   "source": [
    "def has_unique_characters(s):\n",
    "    # Using a set to track seen characters\n",
    "    seen = set()\n",
    "    for char in s:\n",
    "        if char in seen:\n",
    "            return False\n",
    "        seen.add(char)\n",
    "    return True\n",
    "\n",
    "# Example usage\n",
    "string = \"abcdefg\"\n",
    "print(f\"Does the string '{string}' have all unique characters? {has_unique_characters(string)}\")\n",
    "\n",
    "string = \"hello\"\n",
    "print(f\"Does the string '{string}' have all unique characters? {has_unique_characters(string)}\")\n"
   ]
  },
  {
   "cell_type": "code",
   "execution_count": 247,
   "id": "d2c81acf-1456-4540-b835-f7e8f3524e8a",
   "metadata": {},
   "outputs": [
    {
     "name": "stdout",
     "output_type": "stream",
     "text": [
      "abcde have all unique characger True\n"
     ]
    }
   ],
   "source": [
    "def has_unique (s):\n",
    "    seen = set()\n",
    "\n",
    "    for char in s:\n",
    "        if char in seen:\n",
    "            return False\n",
    "        seen.add(char)\n",
    "    return True\n",
    "\n",
    "string  = \"abcde\"\n",
    "\n",
    "print(f\"{string} have all unique characger {has_unique(string)}\")"
   ]
  },
  {
   "cell_type": "code",
   "execution_count": 259,
   "id": "b62c0c9e-3bbd-41e4-9a7f-2df9d9fc0aa6",
   "metadata": {},
   "outputs": [
    {
     "name": "stdout",
     "output_type": "stream",
     "text": [
      "WHAT IS YOUR NAME\n",
      "what is your name\n",
      "What is your name\n",
      "What Is Your Name\n"
     ]
    }
   ],
   "source": [
    "#Q-8 Write a code to convert a given string to uppercase or lowercase\n",
    "a= \"What is your name\"\n",
    "a = a.upper()\n",
    "print(a)\n",
    "a= a.lower()\n",
    "print(a)\n",
    "a= a.capitalize()\n",
    "print(a)\n",
    "a= a.title()\n",
    "print(a)\n",
    "\n"
   ]
  },
  {
   "cell_type": "code",
   "execution_count": 311,
   "id": "c3184476-1e5f-4539-8d10-db3caac78794",
   "metadata": {},
   "outputs": [
    {
     "name": "stdout",
     "output_type": "stream",
     "text": [
      "''what is your name'' have 4 words \n"
     ]
    }
   ],
   "source": [
    "#Q-9 Write a code to count the number of words in a string.\n",
    "string = \"what is your name\"\n",
    "list_of_string = string.split()\n",
    "count = len(list_of_string)\n",
    "print(f\"''{string}'' have {count} words \")"
   ]
  },
  {
   "cell_type": "code",
   "execution_count": 10,
   "id": "4793a088-e04d-4e00-888d-4dcfc525d0af",
   "metadata": {},
   "outputs": [
    {
     "data": {
      "text/plain": [
       "'What is your name'"
      ]
     },
     "execution_count": 10,
     "metadata": {},
     "output_type": "execute_result"
    }
   ],
   "source": [
    "#Q-10 Write a code to concatenate two strings without using the + operator\n",
    "\n",
    "s_1 = \"What \"\n",
    "s_2 = \"is your name\"\n",
    "# s_1+s_2\n",
    "j = \"\".join([s_1, s_2])\n",
    "j"
   ]
  },
  {
   "cell_type": "code",
   "execution_count": 359,
   "id": "ceb50c5f-f5a7-43e9-bb51-0d2370a037e4",
   "metadata": {},
   "outputs": [
    {
     "name": "stdout",
     "output_type": "stream",
     "text": [
      "['sonu', 'Gupta', 'Gupta']\n"
     ]
    },
    {
     "data": {
      "text/plain": [
       "['sonu', 'Gupta', 'Gupta']"
      ]
     },
     "execution_count": 359,
     "metadata": {},
     "output_type": "execute_result"
    }
   ],
   "source": [
    "#Q-11 Write a code to remove all occurrences of a specific element from a list\n",
    "name = [\"sonu\", \"Ankur\", \"Gupta\", \"Ankur\",\"Gupta\"]\n",
    "rmv =  \"Ankur\"\n",
    "for i in name:\n",
    "    if rmv in i: \n",
    "        name.remove(\"Ankur\")\n",
    "print(name)\n",
    "name_2 = []\n",
    "for i in name:\n",
    "    if i!=rmv:\n",
    "        name_2.append(i)\n",
    "\n",
    "name_2"
   ]
  },
  {
   "cell_type": "code",
   "execution_count": 389,
   "id": "a69a2252-6779-4aea-b193-63b7dc36908b",
   "metadata": {},
   "outputs": [
    {
     "name": "stdout",
     "output_type": "stream",
     "text": [
      "[5656, 5641, 4654, 4542, 2121, 215, 212, 165, 121, 55, 15, 10.0, 6, 2, 2, 2, 2, 1]\n",
      "5641\n"
     ]
    }
   ],
   "source": [
    "#Q-12 Implement a code to find the second largest number in a given list of integers.\n",
    "\n",
    "number = [55,121,4654,212,5641,2121,6,2,15,2,2,1,2,4542,5656,215,10.0,165]\n",
    "number = sorted(number,reverse=-1)\n",
    "print(number)\n",
    "print(number[1])"
   ]
  },
  {
   "cell_type": "code",
   "execution_count": 377,
   "id": "7a2a6540-8ecb-4452-8da0-6346abffc286",
   "metadata": {},
   "outputs": [
    {
     "name": "stdout",
     "output_type": "stream",
     "text": [
      "second largest number is 5641\n"
     ]
    }
   ],
   "source": [
    "number = [55,121,4654,212,5641,2121,6,2,15,2,2,1,2,4542,5656,215,10.0,165]\n",
    "uni = list(set(number))\n",
    "uni.sort(reverse = True)\n",
    "if len(uni)>1:\n",
    "    second_larg = uni[1]\n",
    "    print(f\"second largest number is {second_larg}\")\n",
    "else:\n",
    "    print(\"list have only one arguement\")"
   ]
  },
  {
   "cell_type": "code",
   "execution_count": 36,
   "id": "68ce4bf6-d43a-47b2-93de-2951ca23eedd",
   "metadata": {},
   "outputs": [
    {
     "name": "stdout",
     "output_type": "stream",
     "text": [
      "{55: 1, 121: 1, 4654: 1, 212: 2, 5641: 1, 2121: 1, 6: 2, 2: 4, 15: 1, 1: 1, 4542: 1, 5656: 1, 215: 1, 10.0: 1, 165: 1}\n",
      "{55: 1, 121: 1, 4654: 1, 212: 2, 5641: 1, 2121: 1, 6: 2, 2: 4, 15: 1, 1: 1, 4542: 1, 5656: 1, 215: 1, 10.0: 1, 165: 1}\n"
     ]
    }
   ],
   "source": [
    "#Q-13 Create a code to count the occurrences of each element in a list and return a dictionary with elements as\n",
    "# keys and their counts as values\n",
    "\n",
    "#Way-1\n",
    "number = [55,121,4654,212, 212,5641,2121,6,2,15,6,2,2,1,2,4542,5656,215,10.0,165]\n",
    "dic = {}\n",
    "for i in number:\n",
    "    dic[i] = dic.get(i,0)+1\n",
    "print(dic)\n",
    "\n",
    "#way-2\n",
    "number = [55,121,4654,212, 212,5641,2121,6,2,15,6,2,2,1,2,4542,5656,215,10.0,165]\n",
    "dic = {}\n",
    "for i in number:\n",
    "    dic[i] = number.count(i)\n",
    "print(dic)\n",
    "        \n",
    "\n",
    "# number_2.update({\"d\" : \"gg\", \"f\" : \"dd\" } )"
   ]
  },
  {
   "cell_type": "code",
   "execution_count": 100,
   "id": "7e4511ce-19fc-4c4f-a9c6-fdf3cfbbf745",
   "metadata": {},
   "outputs": [
    {
     "name": "stdout",
     "output_type": "stream",
     "text": [
      "[165, 10.0, 215, 5656, 4542, 2, 1, 2, 2, 6, 15, 2, 6, 2121, 5641, 212, 212, 4654, 121, 55]\n"
     ]
    },
    {
     "data": {
      "text/plain": [
       "[165,\n",
       " 10.0,\n",
       " 215,\n",
       " 5656,\n",
       " 4542,\n",
       " 2,\n",
       " 1,\n",
       " 2,\n",
       " 2,\n",
       " 6,\n",
       " 15,\n",
       " 2,\n",
       " 6,\n",
       " 2121,\n",
       " 5641,\n",
       " 212,\n",
       " 212,\n",
       " 4654,\n",
       " 121,\n",
       " 55]"
      ]
     },
     "execution_count": 100,
     "metadata": {},
     "output_type": "execute_result"
    }
   ],
   "source": [
    "#Q-14 Write a code to reverse a list in-place without using any built-in reverse functions\n",
    "number = [55,121,4654,212, 212,5641,2121,6,2,15,6,2,2,1,2,4542,5656,215,10.0,165]\n",
    "\n",
    "i = len(number)\n",
    "new = []\n",
    "# Way-1\n",
    "while i>0:\n",
    "    new.append(number[i-1])\n",
    "    i-=1\n",
    "print(new)\n",
    "\n",
    "# Way-2\n",
    "reve_1 = number[::-1]\n",
    "reve_1\n",
    "\n",
    "\n",
    "    "
   ]
  },
  {
   "cell_type": "code",
   "execution_count": 116,
   "id": "cf0dcde4-6dfc-4fa3-aada-252fc3f1cc53",
   "metadata": {},
   "outputs": [
    {
     "name": "stdout",
     "output_type": "stream",
     "text": [
      "[55, 121, 4654, 212, 5641, 2121, 6, 2, 15, 1, 4542, 5656, 215, 10.0, 165]\n",
      "{1, 2, 165, 6, 5641, 2121, 10.0, 4654, 15, 212, 55, 5656, 121, 215, 4542}\n",
      "[212, 6, 2, 2, 2]\n"
     ]
    }
   ],
   "source": [
    "#Q-15 Implement a code to find and remove duplicates from a list while preserving the original order of element\n",
    "\n",
    "number = [55,121,4654,212, 212,5641,2121,6,2,15,6,2,2,1,2,4542,5656,215,10.0,165]\n",
    "new_list = []\n",
    "seen = set()\n",
    "remove_list = []\n",
    "for i in number:\n",
    "    if i not in seen:\n",
    "        new_list.append(i)\n",
    "        seen.add(i)\n",
    "    else:\n",
    "        remove_list.append(i)\n",
    "        \n",
    "print(new_list)\n",
    "print(seen)\n",
    "print(remove_list)\n"
   ]
  },
  {
   "cell_type": "code",
   "execution_count": 207,
   "id": "b8b65417-8a4c-4114-96c8-56a36a1dc391",
   "metadata": {},
   "outputs": [
    {
     "name": "stdout",
     "output_type": "stream",
     "text": [
      "this is ascen\n"
     ]
    },
    {
     "data": {
      "text/plain": [
       "'not sorted'"
      ]
     },
     "execution_count": 207,
     "metadata": {},
     "output_type": "execute_result"
    }
   ],
   "source": [
    "#Q-16 Create a code to check if a given list is sorted (either in ascending or descending order) or not\n",
    "\n",
    "                            # Way-1\n",
    "number = [55,121,4654,212, 212,5641,2121,6,2,15,6,2,2,1,2,4542,5656,215,10.0,165]\n",
    "number= sorted(number)\n",
    "ascending = True\n",
    "descending = True\n",
    "for i in range(len(number)-1):\n",
    "    if number[i]<number[i+1]:\n",
    "        # print(\"sorted asce\")\n",
    "        descending = False\n",
    "    if number[i]>number[i+1]:\n",
    "        # print(\"soreted dec\")\n",
    "        ascending = False\n",
    "    # else:\n",
    "    #     print(\"not sorted\")\n",
    "if ascending:\n",
    "    print(\"this is ascen\")\n",
    "elif descending:\n",
    "    print(\"this is desc\")\n",
    "else:\n",
    "    print(\"not sorted\")\n",
    "\n",
    "                            # Way-2\n",
    "\n",
    "number = [55,121,4654,212, 212,5641,2121,6,2,15,6,2,2,1,2,4542,5656,215,10.0,165]\n",
    "\n",
    "def sort_or_not (number):\n",
    "    if all([number[i]<number[i+1]for i in range(len(number)-1)]):\n",
    "       return \"Assc\"\n",
    "    if all ([number[i]>number[i+1]for i in range(len(number)-1)]):\n",
    "        return \"desc\"\n",
    "    else:\n",
    "        return \"not sorted\"\n",
    "sort_or_not(number)\n",
    "\n",
    "                        # Way-3\n",
    "\n",
    "def sort_or_not (number):\n",
    "    ass = True\n",
    "    des = True\n",
    "    for i in range(len(number)-1):\n",
    "        if number[i] < number[i+1]:\n",
    "            des = False\n",
    "        elif number[i]>number[i+1]:\n",
    "            ass = False\n",
    "        else:\n",
    "            return \"not sorted\"\n",
    "    if ass:\n",
    "        return \"this is ass\"\n",
    "    elif des:\n",
    "        return \"this is des\"\n",
    "        \n",
    "number = [55,121,4654,212, 212,5641,2121,6,2,15,6,2,2,1,2,4542,5656,215,10.0,165]\n",
    "# number = sorted(set(number))\n",
    "\n",
    "\n",
    "sort_or_not(number) \n",
    "            \n",
    "\n"
   ]
  },
  {
   "cell_type": "code",
   "execution_count": 18,
   "id": "22abb1a6-7b88-4678-b588-16383d1f9b2c",
   "metadata": {},
   "outputs": [
    {
     "name": "stdout",
     "output_type": "stream",
     "text": [
      "[1, 1, 2, 2, 2, 2, 5, 6, 6, 10.0, 12, 12, 12, 12, 15, 31, 45, 54, 55, 55, 66, 121, 165, 212, 212, 215, 521, 542, 2121, 4542, 4654, 5412, 5641, 5656] 34\n",
      "34\n"
     ]
    }
   ],
   "source": [
    "#Q-17 Write a code to merge two sorted lists into a single sorted list\n",
    "\n",
    "number = [55,121,4654,212, 212,5641,2121,6,2,15,6,2,2,1,2,4542,5656,215,10.0,165]\n",
    "number_2 = [55,66,521,12,45,1,5,12,54,12,5412,542,12,31]\n",
    "\n",
    "number= sorted(number)\n",
    "number_2 = sorted(number_2)\n",
    "new_list = []\n",
    "# single_sort = number + number_2\n",
    "# print(single_sort)\n",
    "i=0\n",
    "j=0\n",
    "while i <len(number)and j <len(number_2):\n",
    "   if number[i]<number_2[j]:\n",
    "       new_list.append(number[i])\n",
    "       i+=1\n",
    "   else:\n",
    "       new_list.append(number_2[j])\n",
    "       j+=1\n",
    "new_list.extend(number[i::])\n",
    "new_list.extend(number_2[j::])\n",
    "print(new_list, len(new_list))\n",
    "print(len(number) + len(number_2) )\n",
    "    \n",
    "    "
   ]
  },
  {
   "cell_type": "code",
   "execution_count": 25,
   "id": "0d6512b1-42e6-47ea-95b5-6c8d4ee5dd88",
   "metadata": {},
   "outputs": [
    {
     "name": "stdout",
     "output_type": "stream",
     "text": [
      "{1, 55}\n",
      "[1, 55]\n"
     ]
    }
   ],
   "source": [
    "#Q-18 Implement a code to find the intersection of two given lists\n",
    "number = [55,121,4654,212, 212,5641,2121,6,2,15,6,2,2,1,2,4542,5656,215,10.0,165]\n",
    "number_2 = [55,66,521,12,45,1,5,12,54,12,5412,542,12,31]\n",
    "\n",
    "number = set(number)\n",
    "number_2 = set(number_2)\n",
    "print(number.intersection(number_2))\n",
    "inter_action  = []\n",
    "\n",
    "for num in number:\n",
    "    if num in number_2:\n",
    "        inter_action.append(num)\n",
    "print(inter_action)\n",
    "\n",
    "\n",
    "\n"
   ]
  },
  {
   "cell_type": "code",
   "execution_count": 3,
   "id": "e571ba6f-3eab-4c84-8361-0522dee577a1",
   "metadata": {},
   "outputs": [
    {
     "data": {
      "text/plain": [
       "[1,\n",
       " 2,\n",
       " 6,\n",
       " 10.0,\n",
       " 15,\n",
       " 55,\n",
       " 121,\n",
       " 165,\n",
       " 212,\n",
       " 215,\n",
       " 2121,\n",
       " 4542,\n",
       " 4654,\n",
       " 5641,\n",
       " 5656,\n",
       " 5,\n",
       " 12,\n",
       " 31,\n",
       " 45,\n",
       " 54,\n",
       " 66,\n",
       " 521,\n",
       " 542,\n",
       " 5412]"
      ]
     },
     "execution_count": 3,
     "metadata": {},
     "output_type": "execute_result"
    }
   ],
   "source": [
    "#Q-19 Create a code to find the union of two lists without duplicates\n",
    "number = [55,121,4654,212, 212,5641,2121,6,2,15,6,2,2,1,2,4542,5656,215,10.0,165]\n",
    "number_2 = [55,66,521,12,45,1,5,12,54,12,5412,542,12,31]\n",
    "\n",
    "sort_number = sorted(set(number))\n",
    "sort_number2 = sorted(set(number_2))\n",
    "\n",
    "new_list = sort_number\n",
    "i = 0\n",
    "while i<len(sort_number2):\n",
    "    if sort_number2[i] not in sort_number:\n",
    "        new_list.append(sort_number2[i])\n",
    "    i+=1\n",
    "print(new_list)\n",
    "sort_number.\n"
   ]
  },
  {
   "cell_type": "code",
   "execution_count": 7,
   "id": "2e798e6c-dd68-4353-bbd0-5ced24ab8113",
   "metadata": {},
   "outputs": [
    {
     "data": {
      "text/plain": [
       "(2, 3, 5, 5, 9)"
      ]
     },
     "execution_count": 7,
     "metadata": {},
     "output_type": "execute_result"
    }
   ],
   "source": [
    "#Q-21 Write a code that takes two tuples as input and returns a new tuple containing elements that are\n",
    "# common to both input tuples\u0012\n",
    "\n",
    "tuple1 = (1,2,3,4,5,8,6,5,9)\n",
    "tuple2 = (5,7,9,3,2,10)\n",
    "newtuple = []\n",
    "for num in tuple1:\n",
    "    if num in tuple2 and num not in newtuple:\n",
    "        newtuple.append(num)\n",
    "\n",
    "newtuple =  tuple(newtuple)\n",
    "# tup = tuple(newtuple)\n",
    "# tup\n",
    "newtuple"
   ]
  },
  {
   "cell_type": "code",
   "execution_count": 52,
   "id": "10994a07-108e-4bd4-95d6-3d43588496f6",
   "metadata": {},
   "outputs": [
    {
     "data": {
      "text/plain": [
       "tuple"
      ]
     },
     "execution_count": 52,
     "metadata": {},
     "output_type": "execute_result"
    }
   ],
   "source": [
    "tup =  (1,33,3,3)\n",
    "type(tup)\n"
   ]
  },
  {
   "cell_type": "code",
   "execution_count": 5,
   "id": "944b517a-91f4-4b08-836f-9d9d846f2296",
   "metadata": {},
   "outputs": [
    {
     "name": "stdin",
     "output_type": "stream",
     "text": [
      "Enter the first set of integers, separated by commas:  5,6,10\n",
      "Enter the second set of integers, separated by commas:  5,4\n"
     ]
    },
    {
     "name": "stdout",
     "output_type": "stream",
     "text": [
      "The intersection of the two sets is: {'5'}\n"
     ]
    }
   ],
   "source": [
    "#Q-22 Create a code that prompts the user to enter two sets of integers separated by commas. Then, print the\n",
    "# intersection of these two sets.\n",
    "\n",
    "set1_input = input(\"Enter the first set of integers, separated by commas: \")\n",
    "set2_input = input(\"Enter the second set of integers, separated by commas: \")\n",
    "\n",
    "# Convert the input strings to sets of integers\n",
    "# set1 = set(map(int, set1_input.split(',')))\n",
    "# set2 = set(map(int, set2_input.split(',')))\n",
    "\n",
    "set1 = set(set1_input.split(','))\n",
    "set2 = set(set2_input.split(','))\n",
    "\n",
    "# Find the intersection of the two sets\n",
    "intersection = set1 & set2\n",
    "\n",
    "# Print the result\n",
    "print(\"The intersection of the two sets is:\", intersection)\n"
   ]
  },
  {
   "cell_type": "code",
   "execution_count": 5,
   "id": "6de26a54-4383-4260-9bb0-7eec6866b020",
   "metadata": {},
   "outputs": [
    {
     "data": {
      "text/plain": [
       "(6, 10, 15, 10, 5, 8)"
      ]
     },
     "execution_count": 5,
     "metadata": {},
     "output_type": "execute_result"
    }
   ],
   "source": [
    "#Q-23 Write a code to concatenate two tuples. The function should take two tuples as input and return a new\n",
    "# tuple containing elements from both input tuples.\n",
    "\n",
    "def tup(tuple1, tuple2):\n",
    "    if not isinstance(tuple1, tuple) or not isinstance(tuple2, tuple):\n",
    "        return \"only tuple is allowed\"\n",
    "    return tuple1+tuple2\n",
    "one = (6,10,15)\n",
    "two = (10,5,8)\n",
    "tup(one,two)"
   ]
  },
  {
   "cell_type": "code",
   "execution_count": 7,
   "id": "d951c480-54ce-41b9-881e-127c2d16b254",
   "metadata": {},
   "outputs": [
    {
     "name": "stdin",
     "output_type": "stream",
     "text": [
      "Enter the first set of string, seprated by commas: ankur,garg,shivank\n",
      "Enter the second set of string, seprated by commas: garg,ankur,sonu\n"
     ]
    },
    {
     "name": "stdout",
     "output_type": "stream",
     "text": [
      "{'shivank'}\n"
     ]
    }
   ],
   "source": [
    "#Q-24 Develop a code that prompts the user to input two sets of strings. Then, print the elements that are\n",
    "# present in the first set but not in the second set.\n",
    "string1 = input(\"Enter the first set of string, seprated by commas:\")\n",
    "string2 = input(\"Enter the second set of string, seprated by commas:\")\n",
    "\n",
    "set1 = set(map(str, string1.split(\",\")))\n",
    "set2 =  set(map(str, string2.split(\",\")))\n",
    "set3 = set()\n",
    "\n",
    "for num in set1:\n",
    "    if num not in set2:\n",
    "        set3.add(num)\n",
    "print(set3)\n",
    "\n"
   ]
  },
  {
   "cell_type": "code",
   "execution_count": 88,
   "id": "88fb1a8d-fcb3-4073-9473-15b9793b833c",
   "metadata": {},
   "outputs": [
    {
     "data": {
      "text/plain": [
       "(521, 12, 45)"
      ]
     },
     "execution_count": 88,
     "metadata": {},
     "output_type": "execute_result"
    }
   ],
   "source": [
    "#Q-25 Create a code that takes a tuple and two integers as input. The function should return a new tuple\n",
    "# containing elements from the original tuple within the specified range of indices&\n",
    "def range_indicate(tuple_1, x, y):\n",
    "    if not isinstance(tuple_1, tuple) :\n",
    "        return \"Type error, this is not tuple\"\n",
    "    if not isinstance(x, int) or not isinstance(y,int):\n",
    "        return \"int error\"\n",
    "    return tuple_1[x:y]\n",
    "\n",
    "number_2 = (55,66,521,12,45,1,5,12,54,12,5412,542,12,31)\n",
    "start = 2\n",
    "end = 5\n",
    "range_indicate(number_2,start,end)\n",
    "\n"
   ]
  },
  {
   "cell_type": "code",
   "execution_count": 43,
   "id": "14fefc25-18b4-4210-83af-cb9aa211725c",
   "metadata": {},
   "outputs": [
    {
     "name": "stdin",
     "output_type": "stream",
     "text": [
      "enter the character in set1 with commas :  a,b,c,d\n",
      "enter the character in set2 with commas:  d,c,j,k\n"
     ]
    },
    {
     "name": "stdout",
     "output_type": "stream",
     "text": [
      "{'j', 'c', 'k', 'a', 'b', 'd'}\n"
     ]
    },
    {
     "data": {
      "text/plain": [
       "{'a', 'b', 'c', 'd', 'j', 'k'}"
      ]
     },
     "execution_count": 43,
     "metadata": {},
     "output_type": "execute_result"
    }
   ],
   "source": [
    "#Q-26 Write a code that prompts the user to input two sets of characters. Then, print the union of these two sets&\n",
    "\n",
    "string1 = input(\"enter the character in set1 with commas : \")\n",
    "string2 = input(\"enter the character in set2 with commas: \")\n",
    "\n",
    "set1 = set(map(str, string1.split(\",\")))\n",
    "set2 = set(map(str,string2.split(\",\")))\n",
    "set3 = set()\n",
    "\n",
    "print(set(sorted(set1.union(set2)))) # one way\n",
    "\n",
    "for num in set1: # Second way\n",
    "    set3.add(num)\n",
    "for num in set2: \n",
    "    if num not in set3:\n",
    "        set3.add(num)\n",
    "set(sorted(set3))"
   ]
  },
  {
   "cell_type": "code",
   "execution_count": 18,
   "id": "4810e2e4-11af-4f58-84e9-bdc0b7df54b3",
   "metadata": {},
   "outputs": [
    {
     "name": "stdout",
     "output_type": "stream",
     "text": [
      "maximume value is 10 and minimum value is 2\n"
     ]
    }
   ],
   "source": [
    "#Q-27 Develop a code that takes a tuple of integers as input. The function should return the maximum and\n",
    "# minimum values from the tuple using tuple unpacking&\n",
    "\n",
    "def min_max(tuple1):\n",
    "    # if not isinstance(tuple1, tuple):\n",
    "    #     return f\"{tuple1} is not tuple\"\n",
    "    # if not all(isinstance(x, int) for x in tuple1):\n",
    "    #     return \"error something where not int\"\n",
    "    min_value = min(tuple1)\n",
    "    max_value = max(tuple1)\n",
    "    return min_value, max_value\n",
    "a = (2,4,6,8,10)\n",
    "min_max(a)\n",
    "x , y = min_max(a)\n",
    "print(f\"maximume value is {y} and minimum value is {x}\")\n"
   ]
  },
  {
   "cell_type": "code",
   "execution_count": 13,
   "id": "a439f8ff-4ab9-4287-98dd-54b908d3ffcf",
   "metadata": {},
   "outputs": [
    {
     "name": "stdout",
     "output_type": "stream",
     "text": [
      "orignal set1 {1, 2, 50, 6, 23, 31}\n",
      "orignal set2 {1, 545, 3, 5, 23, 91}\n",
      "Union {1, 2, 545, 3, 5, 6, 50, 23, 91, 31}\n",
      "union-2 {1, 2, 3, 545, 5, 6, 50, 23, 91, 31}\n",
      "intersection {1, 23}\n",
      "intersection-2 :  {1, 23}\n",
      "difference-1 {2, 50, 6, 31}\n",
      "difference-2 {545, 91, 3, 5}\n",
      "diff_1 :  {2, 50, 6, 31} \n",
      "diff_2 : {545, 91, 3, 5}\n"
     ]
    }
   ],
   "source": [
    "#Q-28 Create a code that defines two sets of integers. Then, print the union, intersection, and difference of these\n",
    "# two sets&\n",
    "\n",
    "set1 = {1,2,50,6,23,31}\n",
    "set2 = {1,545,5,23,3,91}\n",
    "\n",
    "print(\"orignal set1\", set1)\n",
    "print(\"orignal set2\", set2)\n",
    "\n",
    "print(\"Union\",set1.union(set2)) # one way\n",
    "########## Second way ###############\n",
    "set_union = set()\n",
    "i = 0\n",
    "set_union.update(set1)\n",
    "while i<len(set2)-1:\n",
    "    for num in set2:\n",
    "        if num not in set_union:\n",
    "            set_union.add(num)\n",
    "        i+=1\n",
    "a= sorted(set_union)\n",
    "a = set(a)\n",
    "print(\"union-2\", a) # second way\n",
    "########## Second way ###############\n",
    "    \n",
    "print(\"intersection\",set1.intersection(set2))                       ######## one way ###########\n",
    "\n",
    "########## Second way ###############\n",
    "\n",
    "j=0\n",
    "set_intersection = set()\n",
    "while j<len(set1)-1:\n",
    "    for num in set1:\n",
    "        if num in set2:\n",
    "            set_intersection.add(num)\n",
    "        j+=1\n",
    "print(\"intersection-2 : \", set_intersection)\n",
    "\n",
    "########## Second way ###############\n",
    "\n",
    "print(\"difference-1\",set1.difference(set2))               ########## one Way ###########\n",
    "print(\"difference-2\",set2.difference(set1))               ########## one Way ###########\n",
    "\n",
    "########## Second way ###############\n",
    "k=0\n",
    "l=0\n",
    "diff_1 = set()\n",
    "diff_2 = set()\n",
    "while k<len(set1)-1 or l<len(set2)-1:\n",
    "    for num in set1:\n",
    "        if num not in set2:\n",
    "            diff_1.add(num)\n",
    "        k+=1\n",
    "    for num in set2:\n",
    "        if num not in set1:\n",
    "            diff_2.add(num)\n",
    "        l+=1\n",
    "print(\"diff_1 : \", diff_1, \"\\ndiff_2 :\", diff_2)\n",
    "\n",
    "\n",
    "########## Second way ###############\n"
   ]
  },
  {
   "cell_type": "code",
   "execution_count": 57,
   "id": "7f37a52b-421d-41b1-9267-9fa603bbb64d",
   "metadata": {},
   "outputs": [
    {
     "name": "stdin",
     "output_type": "stream",
     "text": [
      "Enter tuple element :  5,6,2,3,6,2,4,3,2,6,8,2\n"
     ]
    },
    {
     "name": "stdout",
     "output_type": "stream",
     "text": [
      "2 occurance is 4 in the tuple\n"
     ]
    }
   ],
   "source": [
    "#Q-29 Write a code that takes a tuple and an element as input. The function should return the count of\n",
    "# occurrences of the given element in the tuple&\n",
    "\n",
    "def count_occur(input_table, element):\n",
    "    if not isinstance(input_table, tuple):\n",
    "        return \"This is not tuple\"\n",
    "        \n",
    "    return input_table.count(element)\n",
    "tuple1= input(\"Enter tuple element : \")\n",
    "tupl =  tuple(tuple1.split(\",\"))\n",
    "count = tupl[2]\n",
    "occur=count_occur(tupl, count)\n",
    "print(f\"{count} occurance is {occur} in the tuple\")"
   ]
  },
  {
   "cell_type": "code",
   "execution_count": 19,
   "id": "af652836-58c7-45fe-ab6f-5729415e29ba",
   "metadata": {},
   "outputs": [
    {
     "name": "stdin",
     "output_type": "stream",
     "text": [
      "Enter First set of string with commas :  ankur,sonu,gupta,shivank,happy\n",
      "Enter Second set of string with commas :  shivam,sonu,garg,monu,vishal\n"
     ]
    },
    {
     "data": {
      "text/plain": [
       "{'ankur', 'garg', 'gupta', 'happy', 'monu', 'shivam', 'shivank', 'vishal'}"
      ]
     },
     "execution_count": 19,
     "metadata": {},
     "output_type": "execute_result"
    }
   ],
   "source": [
    "#Q-30 Develop a code that prompts the user to input two sets of strings. Then, print the symmetric difference of\n",
    "# these two sets.\n",
    "\n",
    "a =  input(\"Enter First set of string with commas : \")\n",
    "b = input(\"Enter Second set of string with commas : \")\n",
    "\n",
    "set1 = set(a.split(\",\"))\n",
    "set2 = set(b.split(\",\"))\n",
    "\n",
    "set1.symmetric_difference(set2)\n",
    "\n",
    "\n"
   ]
  },
  {
   "cell_type": "code",
   "execution_count": 48,
   "id": "df0ee980-60f4-418a-9db0-3d7871d4bac6",
   "metadata": {},
   "outputs": [
    {
     "name": "stdin",
     "output_type": "stream",
     "text": [
      "Enter First set of string with commas :  ankur,sonu,gupta,shivank,happy\n",
      "Enter Second set of string with commas :  shivam,sonu,garg,monu,vishal,ankur,sonu,gupta,shivank,happy\n"
     ]
    },
    {
     "data": {
      "text/plain": [
       "{'vishal': 1,\n",
       " 'happy': 2,\n",
       " 'monu': 1,\n",
       " 'garg': 1,\n",
       " 'ankur': 2,\n",
       " 'shivank': 2,\n",
       " 'shivam': 1,\n",
       " 'sonu': 3,\n",
       " 'gupta': 2}"
      ]
     },
     "execution_count": 48,
     "metadata": {},
     "output_type": "execute_result"
    }
   ],
   "source": [
    "#Q-31 Write a code that takes a list of words as input and returns a dictionary where the keys are unique words\n",
    "# and the values are the frequencies of those words in the input list.\n",
    "\n",
    "a =  input(\"Enter First set of string with commas : \")\n",
    "b = input(\"Enter Second set of string with commas : \")\n",
    "\n",
    "list1 = list(a.split(\",\"))\n",
    "list2 = list(b.split(\",\"))\n",
    "set1 = set(list1)\n",
    "set2 = set(list2)\n",
    "dic = {}\n",
    "unique = set1.union(set2)\n",
    "all_list = list1+list2\n",
    "\n",
    "for num in unique:\n",
    "        dic[num] = all_list.count(num)\n",
    "dic\n"
   ]
  },
  {
   "cell_type": "code",
   "execution_count": 46,
   "id": "632685d5-2b18-47f0-baba-499a4ec02809",
   "metadata": {},
   "outputs": [
    {
     "name": "stdin",
     "output_type": "stream",
     "text": [
      "Enter First set of string with commas :  ankur,sonu,gupta,shivank,happy\n",
      "Enter Second set of string with commas :  shivam,sonu,garg,monu,vishal,ankur,sonu,gupta,shivank,happy\n"
     ]
    },
    {
     "data": {
      "text/plain": [
       "{'ankur': 2,\n",
       " 'sonu': 3,\n",
       " 'gupta': 2,\n",
       " 'shivank': 2,\n",
       " 'happy': 2,\n",
       " 'shivam': 1,\n",
       " 'garg': 1,\n",
       " 'monu': 1,\n",
       " 'vishal': 1}"
      ]
     },
     "execution_count": 46,
     "metadata": {},
     "output_type": "execute_result"
    }
   ],
   "source": [
    "# way-2\n",
    "\n",
    "a =  input(\"Enter First set of string with commas : \")\n",
    "b = input(\"Enter Second set of string with commas : \")\n",
    "\n",
    "list1 = list(a.split(\",\"))\n",
    "list2 = list(b.split(\",\"))\n",
    "set1 = set(list1)\n",
    "set2 = set(list2)\n",
    "dic = {}\n",
    "unique = set1.union(set2)\n",
    "all_list = list1+list2\n",
    "\n",
    "for num in all_list:\n",
    "        dic[num] = all_list.count(num)\n",
    "dic\n",
    "\n"
   ]
  },
  {
   "cell_type": "code",
   "execution_count": 55,
   "id": "4aea824f-bda4-42f9-a611-49c7ebbfee97",
   "metadata": {},
   "outputs": [
    {
     "name": "stdout",
     "output_type": "stream",
     "text": [
      "enter first dictionary \n"
     ]
    },
    {
     "name": "stdin",
     "output_type": "stream",
     "text": [
      "enter key :  sonu\n",
      "enter value garg\n",
      "enter key :  ankur\n",
      "enter value garg\n",
      "enter key :  done\n"
     ]
    },
    {
     "name": "stdout",
     "output_type": "stream",
     "text": [
      "enter second dictionary\n"
     ]
    },
    {
     "name": "stdin",
     "output_type": "stream",
     "text": [
      "enter key sonu\n",
      "enter value gupta\n",
      "enter key ankur\n",
      "enter value gupta\n",
      "enter key done\n"
     ]
    },
    {
     "name": "stdout",
     "output_type": "stream",
     "text": [
      "marge dictionary\n",
      " {'sonu': 'gupta', 'ankur': 'gupta'}\n"
     ]
    }
   ],
   "source": [
    "#32 Write a code that takes two dictionaries as input and merges them into a single dictionary. If there are\n",
    "# common keys, the values should be added together&\n",
    "\n",
    "# this is a basic of type input as a dictionary input, it takes only str as input\n",
    "print(\"enter first dictionary \")\n",
    "dict1 = {}\n",
    "\n",
    "while True:\n",
    "    key = input(\"enter key : \")\n",
    "    if key.lower() == \"done\":\n",
    "        break\n",
    "    value = input(\"enter value\")\n",
    "    dict1[key] = value\n",
    "print(\"enter second dictionary\")\n",
    "dict2 = {}\n",
    "while True:\n",
    "    key= input(\"enter key\")\n",
    "    if key.lower() == \"done\":\n",
    "        break\n",
    "    value =input(\"enter value\")\n",
    "    dict2[key]=value\n",
    "dict1.update(dict2)\n",
    "print(\"marge dictionary\\n\",dict1)\n"
   ]
  },
  {
   "cell_type": "code",
   "execution_count": null,
   "id": "0f14d70d-d325-4d1c-ad6e-4ffff78eefa0",
   "metadata": {},
   "outputs": [],
   "source": []
  },
  {
   "cell_type": "code",
   "execution_count": null,
   "id": "69126f04-da1a-4db9-b22f-c963ab8ed9b2",
   "metadata": {},
   "outputs": [],
   "source": []
  },
  {
   "cell_type": "code",
   "execution_count": 27,
   "id": "bbeeb8d3-8e7d-47bd-b3ed-96bd5c5e1b82",
   "metadata": {},
   "outputs": [
    {
     "name": "stdout",
     "output_type": "stream",
     "text": [
      "Enter the first dictionary (in Python dict format, e.g., {'key1': value1, 'key2': value2}):\n"
     ]
    },
    {
     "name": "stdin",
     "output_type": "stream",
     "text": [
      "Dictionary 1:  {1 : \"Ankur\"}\n"
     ]
    },
    {
     "name": "stdout",
     "output_type": "stream",
     "text": [
      "Enter the second dictionary (in Python dict format):\n"
     ]
    },
    {
     "name": "stdin",
     "output_type": "stream",
     "text": [
      "Dictionary 2:  {2 : \"sonu\"}\n"
     ]
    },
    {
     "name": "stdout",
     "output_type": "stream",
     "text": [
      "Merged Dictionary: {1: 'Ankur', 2: 'sonu'}\n"
     ]
    }
   ],
   "source": [
    "#Way-2 its a proper input as a dictionary\n",
    "def merge_dictionaries(dict1, dict2):\n",
    "    \"\"\"\n",
    "    Merge two dictionaries into a single dictionary.\n",
    "    If there are duplicate keys, the values from dict2 will overwrite those from dict1.\n",
    "    \n",
    "    :param dict1: First dictionary\n",
    "    :param dict2: Second dictionary\n",
    "    :return: Merged dictionary\n",
    "    \"\"\"\n",
    "    merged_dict = dict1.copy()  # Make a copy of the first dictionary\n",
    "    merged_dict.update(dict2)   # Update with the second dictionary\n",
    "    return merged_dict\n",
    "\n",
    "# Take dictionary inputs from the user\n",
    "print(\"Enter the first dictionary (in Python dict format, e.g., {'key1': value1, 'key2': value2}):\")\n",
    "dict1 = eval(input(\"Dictionary 1: \"))  # Convert input string to dictionary (use eval cautiously)\n",
    "\n",
    "print(\"Enter the second dictionary (in Python dict format):\")\n",
    "dict2 = eval(input(\"Dictionary 2: \"))  # Convert input string to dictionary\n",
    "\n",
    "# Merge the dictionaries\n",
    "merged = merge_dictionaries(dict1, dict2)\n",
    "\n",
    "# Display the merged dictionary\n",
    "print(\"Merged Dictionary:\", merged)\n"
   ]
  },
  {
   "cell_type": "code",
   "execution_count": 9,
   "id": "036dc405-72b8-408a-8874-0e4a75b37d27",
   "metadata": {},
   "outputs": [
    {
     "name": "stdout",
     "output_type": "stream",
     "text": [
      "Enter first dictionary\n"
     ]
    },
    {
     "name": "stdin",
     "output_type": "stream",
     "text": [
      "enter dictionary :  [b]\n"
     ]
    },
    {
     "ename": "NameError",
     "evalue": "name 'b' is not defined",
     "output_type": "error",
     "traceback": [
      "\u001b[1;31m---------------------------------------------------------------------------\u001b[0m",
      "\u001b[1;31mNameError\u001b[0m                                 Traceback (most recent call last)",
      "Cell \u001b[1;32mIn[9], line 18\u001b[0m\n\u001b[0;32m     15\u001b[0m     \u001b[38;5;28;01mreturn\u001b[39;00m marge\n\u001b[0;32m     17\u001b[0m \u001b[38;5;28mprint\u001b[39m(\u001b[38;5;124m\"\u001b[39m\u001b[38;5;124mEnter first dictionary\u001b[39m\u001b[38;5;124m\"\u001b[39m)\n\u001b[1;32m---> 18\u001b[0m dict1 \u001b[38;5;241m=\u001b[39m dicto()\n\u001b[0;32m     19\u001b[0m \u001b[38;5;28mprint\u001b[39m(\u001b[38;5;124m\"\u001b[39m\u001b[38;5;124mEnter second dictionary\u001b[39m\u001b[38;5;124m\"\u001b[39m)\n\u001b[0;32m     20\u001b[0m dict2 \u001b[38;5;241m=\u001b[39m dicto()\n",
      "Cell \u001b[1;32mIn[9], line 5\u001b[0m, in \u001b[0;36mdicto\u001b[1;34m()\u001b[0m\n\u001b[0;32m      3\u001b[0m \u001b[38;5;28;01mwhile\u001b[39;00m \u001b[38;5;28;01mTrue\u001b[39;00m:\n\u001b[0;32m      4\u001b[0m     \u001b[38;5;28;01mtry\u001b[39;00m:\n\u001b[1;32m----> 5\u001b[0m         input1 \u001b[38;5;241m=\u001b[39m \u001b[38;5;28meval\u001b[39m(\u001b[38;5;28minput\u001b[39m(\u001b[38;5;124m\"\u001b[39m\u001b[38;5;124menter dictionary : \u001b[39m\u001b[38;5;124m\"\u001b[39m))\n\u001b[0;32m      6\u001b[0m         \u001b[38;5;28;01mif\u001b[39;00m \u001b[38;5;28misinstance\u001b[39m(input1, \u001b[38;5;28mdict\u001b[39m):\n\u001b[0;32m      7\u001b[0m             \u001b[38;5;28;01mreturn\u001b[39;00m input1\n",
      "File \u001b[1;32m<string>:1\u001b[0m\n",
      "\u001b[1;31mNameError\u001b[0m: name 'b' is not defined"
     ]
    }
   ],
   "source": [
    "# Way-3\n",
    "def dicto():\n",
    "    while True:\n",
    "        try:\n",
    "            input1 = eval(input(\"enter dictionary : \"))\n",
    "            if isinstance(input1, dict):\n",
    "                return input1\n",
    "        except (ValueError, SyntaxError):\n",
    "            print(\"Enter proper dictionary\")\n",
    "\n",
    "def marge_dictionary(dict1, dict2):\n",
    "\n",
    "    marge = dict1.copy()\n",
    "    marge.update(dict2)\n",
    "    return marge\n",
    "\n",
    "print(\"Enter first dictionary\")\n",
    "dict1 = dicto()\n",
    "print(\"Enter second dictionary\")\n",
    "dict2 = dicto()\n",
    "marge_dictionary(dict1, dict2)"
   ]
  },
  {
   "cell_type": "code",
   "execution_count": null,
   "id": "a5c63358-7dc3-4674-8112-100a37e399a9",
   "metadata": {},
   "outputs": [
    {
     "name": "stdout",
     "output_type": "stream",
     "text": [
      "Input the first dictionary:\n",
      "Enter the dictionary in Python dict format (e.g., {'a': 1, 'b': [2, 3], 'c': {'d': 4}}):\n"
     ]
    },
    {
     "name": "stdin",
     "output_type": "stream",
     "text": [
      "Your dictionary:  [b,c]\n"
     ]
    },
    {
     "name": "stdout",
     "output_type": "stream",
     "text": [
      "Invalid format. Please try again.\n"
     ]
    }
   ],
   "source": [
    "# Way-4\n",
    "\n",
    "import ast\n",
    "\n",
    "def input_dictionary():\n",
    "    \"\"\"\n",
    "    Function to input a dictionary with any type of data.\n",
    "    The user provides the dictionary in Python dict format.\n",
    "    \"\"\"\n",
    "    print(\"Enter the dictionary in Python dict format (e.g., {'a': 1, 'b': [2, 3], 'c': {'d': 4}}):\")\n",
    "    while True:\n",
    "        try:\n",
    "            user_input = input(\"Your dictionary: \")\n",
    "            result = ast.literal_eval(user_input)  # Safely parse the input\n",
    "            if isinstance(result, dict):\n",
    "                return result\n",
    "            else:\n",
    "                print(\"Input is not a valid dictionary. Please try again.\")\n",
    "        except (ValueError, SyntaxError):\n",
    "            print(\"Invalid format. Please try again.\")\n",
    "\n",
    "def merge_dictionaries(dict1, dict2):\n",
    "    \"\"\"\n",
    "    Merge two dictionaries into a single dictionary.\n",
    "    If there are duplicate keys, the values from dict2 will overwrite those from dict1.\n",
    "    \"\"\"\n",
    "    merged_dict = dict1.copy()\n",
    "    merged_dict.update(dict2)\n",
    "    return merged_dict\n",
    "\n",
    "# Input dictionaries\n",
    "print(\"Input the first dictionary:\")\n",
    "dict1 = input_dictionary()\n",
    "\n",
    "print(\"Input the second dictionary:\")\n",
    "dict2 = input_dictionary()\n",
    "\n",
    "# Merge the dictionaries\n",
    "merged = merge_dictionaries(dict1, dict2)\n",
    "\n",
    "# Display the merged dictionary\n",
    "print(\"Merged Dictionary:\", merged)\n"
   ]
  },
  {
   "cell_type": "code",
   "execution_count": 41,
   "id": "8a5d2c73-4dc1-4db6-a9aa-7fc2ff577e72",
   "metadata": {},
   "outputs": [
    {
     "name": "stdout",
     "output_type": "stream",
     "text": [
      "42\n"
     ]
    }
   ],
   "source": [
    "#Q-33 Write a code to access a value in a nested dictionary. The function should take the dictionary and a list of\n",
    "# keys as input, and return the corresponding value. If any of the keys do not exist in the dictionary, the\n",
    "# function should return None&\n",
    "\n",
    "def get_nested_value(d, keys):\n",
    "    \"\"\"\n",
    "    Access a value in a nested dictionary.\n",
    "\n",
    "    :param d: The dictionary to access.\n",
    "    :param keys: A list of keys representing the path to the desired value.\n",
    "    :return: The corresponding value if all keys exist, otherwise None.\n",
    "    \"\"\"\n",
    "    current = d\n",
    "    for key in keys:\n",
    "        if isinstance(current, dict) and key in current:\n",
    "            current = current[key]  # Move deeper into the dictionary\n",
    "        else:\n",
    "            return None  # Return None if the key is missing\n",
    "    return current\n",
    "\n",
    "# Example usage\n",
    "nested_dict = {\n",
    "    'a': {\n",
    "        'b': {\n",
    "            'c': 42,\n",
    "            'd': [1, 2, 3]\n",
    "        },\n",
    "        'e': 'hello'\n",
    "    }\n",
    "}\n",
    "\n",
    "# Accessing a nested value\n",
    "keys = ['a', 'b', 'c']\n",
    "print(get_nested_value(nested_dict, keys))  # Output: 42\n",
    "\n",
    "# # Accessing a non-existent path\n",
    "# keys = ['a', 'x', 'y']\n",
    "# print(get_nested_value(nested_dict, keys))  # Output: None\n",
    "\n",
    "# # Accessing a deeper list\n",
    "# keys = ['a', 'b', 'd', 1]\n",
    "# print(get_nested_value(nested_dict, keys))  # Output: 2\n"
   ]
  },
  {
   "cell_type": "code",
   "execution_count": 66,
   "id": "77524f59-ba76-4d42-9fa0-b21596b6ea0e",
   "metadata": {},
   "outputs": [
    {
     "name": "stdin",
     "output_type": "stream",
     "text": [
      "Enter dictionary in way of dict {'banana': 1, 'cherry': 2, 'apple': 3}\n"
     ]
    },
    {
     "name": "stdout",
     "output_type": "stream",
     "text": [
      "{'banana': 1, 'cherry': 2, 'apple': 3}\n",
      "{'apple': 3, 'cherry': 2, 'banana': 1}\n"
     ]
    }
   ],
   "source": [
    "# Q-34 Write a code that takes a dictionary as input and returns a sorted version of it based on the values. You\n",
    "# can choose whether to sort in ascending or descending order&\n",
    "import ast\n",
    "def dicti():\n",
    "    while True:\n",
    "        try:\n",
    "            input_disct = input(\"Enter dictionary in way of dict\")\n",
    "            result = ast.literal_eval(input_disct)\n",
    "            if isinstance(result, dict):\n",
    "                return result\n",
    "        except (ValueError, SyntaxError):\n",
    "            print(\"Enter proper dictionary\")\n",
    "# dict1 = dicti()\n",
    "def sorted_dict(dict1, ascending = True ):\n",
    "# list(map(lambda x :sorted(x), dict1))\n",
    "    sorted_item = sorted(dict1.items(), key =lambda x :x[1], reverse= not ascending)\n",
    "    sorted_item = dict(sorted_item)\n",
    "    return sorted_item\n",
    "dict1 = dicti()\n",
    "print(sorted_dict(dict1, ascending =  True)) # Ascending order\n",
    "print(sorted_dict(dict1, ascending= False)) # decending order\n",
    "\n"
   ]
  },
  {
   "cell_type": "code",
   "execution_count": null,
   "id": "204c43f6-e7f8-4dec-a9a7-ac815c1afd2b",
   "metadata": {},
   "outputs": [],
   "source": [
    "# Q-35 Write a code that inverts a dictionary, swapping keys and values. Ensure that the inverted dictionary\n",
    "# correctly handles cases where multiple keys have the same value by storing the keys as a list in the\n",
    "# inverted dictionary"
   ]
  },
  {
   "cell_type": "code",
   "execution_count": 1,
   "id": "c1048526-c1fb-4f7f-9510-a42d04edc614",
   "metadata": {},
   "outputs": [
    {
     "name": "stdin",
     "output_type": "stream",
     "text": [
      "Enter dictionary in way of dict {'apple': 3, 'banana': 1, 'cherry': 3, 'date': 2, 'fig': 1}\n"
     ]
    },
    {
     "data": {
      "text/plain": [
       "{3: ['apple', 'cherry'], 1: ['banana', 'fig'], 2: ['date']}"
      ]
     },
     "execution_count": 1,
     "metadata": {},
     "output_type": "execute_result"
    }
   ],
   "source": [
    "import ast\n",
    "def dicti():\n",
    "    while True:\n",
    "        try:\n",
    "            input_disct = input(\"Enter dictionary in way of dict\")\n",
    "            result = ast.literal_eval(input_disct)\n",
    "            if isinstance(result, dict):\n",
    "                return result\n",
    "        except (ValueError, SyntaxError):\n",
    "            print(\"Enter proper dictionary\")\n",
    "def swaping(dict1):\n",
    "    swap = {}\n",
    "    for key, value in dict1.items():\n",
    "        if value in swap:\n",
    "            swap[value].append(key)\n",
    "        else:\n",
    "            swap[value] = [key]\n",
    "    return swap\n",
    "dict1 = dicti()\n",
    "inver = swaping(dict1)\n",
    "inver\n",
    "\n",
    "\n",
    "        "
   ]
  },
  {
   "cell_type": "code",
   "execution_count": 8,
   "id": "afa326c8-5133-4fe7-bf77-ed661ead84ad",
   "metadata": {},
   "outputs": [
    {
     "name": "stdin",
     "output_type": "stream",
     "text": [
      "Enter dictionary in way of dict {'apple': 3, 'banana': 1, 'cherry': 3, 'date': 2, 'fig': 1}\n"
     ]
    },
    {
     "data": {
      "text/plain": [
       "{3: 'cherry', 1: 'fig', 2: 'date'}"
      ]
     },
     "execution_count": 8,
     "metadata": {},
     "output_type": "execute_result"
    }
   ],
   "source": []
  },
  {
   "cell_type": "code",
   "execution_count": null,
   "id": "d1e44c84-5845-42d1-bfdc-c6aa3817036d",
   "metadata": {},
   "outputs": [],
   "source": []
  },
  {
   "cell_type": "code",
   "execution_count": null,
   "id": "bb47754f-4fdc-4e90-81af-2eb35f5540b3",
   "metadata": {},
   "outputs": [],
   "source": []
  }
 ],
 "metadata": {
  "kernelspec": {
   "display_name": "Python 3 (ipykernel)",
   "language": "python",
   "name": "python3"
  },
  "language_info": {
   "codemirror_mode": {
    "name": "ipython",
    "version": 3
   },
   "file_extension": ".py",
   "mimetype": "text/x-python",
   "name": "python",
   "nbconvert_exporter": "python",
   "pygments_lexer": "ipython3",
   "version": "3.12.7"
  }
 },
 "nbformat": 4,
 "nbformat_minor": 5
}
